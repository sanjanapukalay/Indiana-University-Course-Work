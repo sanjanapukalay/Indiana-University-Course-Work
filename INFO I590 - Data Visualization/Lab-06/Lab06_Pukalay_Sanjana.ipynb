{
 "cells": [
  {
   "cell_type": "markdown",
   "metadata": {},
   "source": [
    "# W6 Lab Assignment\n",
    "\n",
    "Deep dive into Histogram and boxplot."
   ]
  },
  {
   "cell_type": "code",
   "execution_count": 221,
   "metadata": {
    "collapsed": true
   },
   "outputs": [],
   "source": [
    "import matplotlib.pyplot as plt\n",
    "import numpy as np\n",
    "import seaborn as sns\n",
    "import pandas as pd\n",
    "import pylab\n",
    "sns.set_style('white')\n",
    "\n",
    "%matplotlib inline "
   ]
  },
  {
   "cell_type": "markdown",
   "metadata": {},
   "source": [
    "# Histogram\n"
   ]
  },
  {
   "cell_type": "markdown",
   "metadata": {},
   "source": [
    "Let's revisit the table from the class\n",
    "\n",
    "| Hours | Frequency |\n",
    "|-------|-----------|\n",
    "| 0-1   | 4,300     |\n",
    "| 1-3   | 6,900     |\n",
    "| 3-5   | 4,900     |\n",
    "| 5-10  | 2,000     |\n",
    "| 10-24 | 2,100     |"
   ]
  },
  {
   "cell_type": "markdown",
   "metadata": {},
   "source": [
    "You can draw a histogram by just providing bins and counts instead of a list of numbers. So, let's do that for convenience. "
   ]
  },
  {
   "cell_type": "code",
   "execution_count": 222,
   "metadata": {
    "collapsed": false
   },
   "outputs": [],
   "source": [
    "bins = [0, 1, 3, 5, 10, 24]\n",
    "data = {0.5: 4300, 2: 6900, 4: 4900, 7: 2000, 15: 2100} "
   ]
  },
  {
   "cell_type": "markdown",
   "metadata": {},
   "source": [
    "Draw histogram using this data. Useful query: [Google search: matplotlib histogram pre-counted](https://www.google.com/search?client=safari&rls=en&q=matplotlib+histogram+already+counted&ie=UTF-8&oe=UTF-8#q=matplotlib+histogram+pre-counted)"
   ]
  },
  {
   "cell_type": "code",
   "execution_count": 223,
   "metadata": {
    "collapsed": false
   },
   "outputs": [
    {
     "data": {
      "text/plain": [
       "<matplotlib.text.Text at 0x28e6f347470>"
      ]
     },
     "execution_count": 223,
     "metadata": {},
     "output_type": "execute_result"
    },
    {
     "data": {
      "image/png": "[encoded data removed]",
      "text/plain": [
       "<matplotlib.figure.Figure at 0x28e6f35d400>"
      ]
     },
     "metadata": {},
     "output_type": "display_data"
    }
   ],
   "source": [
    "# TODO: draw a histogram with pre-counted data. \n",
    "val, weight = zip(*[(k, v) for k,v in data.items()])\n",
    "plt.hist(val, weights=weight , bins= bins)\n",
    "plt.xlabel(\"Hours\")"
   ]
  },
  {
   "cell_type": "markdown",
   "metadata": {},
   "source": [
    "As you can see, the **default histogram does not normalize with binwidth and simply shows the counts**! This can be very misleading if you are working with variable bin width. One simple way to fix this is using the option [`normed`](http://matplotlib.org/api/pyplot_api.html#matplotlib.pyplot.hist). "
   ]
  },
  {
   "cell_type": "code",
   "execution_count": 224,
   "metadata": {
    "collapsed": false
   },
   "outputs": [
    {
     "data": {
      "text/plain": [
       "<matplotlib.text.Text at 0x28e6e94c7b8>"
      ]
     },
     "execution_count": 224,
     "metadata": {},
     "output_type": "execute_result"
    },
    {
     "data": {
      "image/png": "[encoded data removed]",
      "text/plain": [
       "<matplotlib.figure.Figure at 0x28e6e9186a0>"
      ]
     },
     "metadata": {},
     "output_type": "display_data"
    }
   ],
   "source": [
    "# TODO: fix it with normed option. \n",
    "plt.hist(val, weights=weight , bins= bins , normed = True)\n",
    "plt.xlabel(\"Hours\")"
   ]
  },
  {
   "cell_type": "markdown",
   "metadata": {},
   "source": [
    "## IMDB data"
   ]
  },
  {
   "cell_type": "markdown",
   "metadata": {},
   "source": [
    "How does matplotlib decide the bin width? Let's try with the IMDb data."
   ]
  },
  {
   "cell_type": "code",
   "execution_count": 225,
   "metadata": {
    "collapsed": false
   },
   "outputs": [],
   "source": [
    "# TODO: Load IMDB data into movie_df using pandas\n",
    "movie_df = pd.read_csv('imdb.csv', delimiter='\\t')"
   ]
  },
  {
   "cell_type": "markdown",
   "metadata": {},
   "source": [
    "Plot the histogram of movie ratings using the `plt.hist()` function."
   ]
  },
  {
   "cell_type": "code",
   "execution_count": 226,
   "metadata": {
    "collapsed": false
   },
   "outputs": [
    {
     "data": {
      "text/plain": [
       "(array([   824.,   3363.,   9505.,  21207.,  42500.,  69391.,  86470.,\n",
       "         58059.,  21538.,    154.]),\n",
       " array([ 1.  ,  1.89,  2.78,  3.67,  4.56,  5.45,  6.34,  7.23,  8.12,\n",
       "         9.01,  9.9 ]),\n",
       " <a list of 10 Patch objects>)"
      ]
     },
     "execution_count": 226,
     "metadata": {},
     "output_type": "execute_result"
    },
    {
     "data": {
      "image/png": "[encoded data removed]",
      "text/plain": [
       "<matplotlib.figure.Figure at 0x28e7a927160>"
      ]
     },
     "metadata": {},
     "output_type": "display_data"
    }
   ],
   "source": [
    "plt.hist(movie_df['Rating'])"
   ]
  },
  {
   "cell_type": "markdown",
   "metadata": {},
   "source": [
    "Have you noticed that this function returns three objects? Take a look at the documentation [here](http://matplotlib.org/api/pyplot_api.html#matplotlib.pyplot.hist) to figure out what they are.\n",
    "\n",
    "To get the returned three objects:"
   ]
  },
  {
   "cell_type": "code",
   "execution_count": 227,
   "metadata": {
    "collapsed": false
   },
   "outputs": [
    {
     "name": "stdout",
     "output_type": "stream",
     "text": [
      "[   824.   3363.   9505.  21207.  42500.  69391.  86470.  58059.  21538.\n",
      "    154.]\n",
      "[ 1.    1.89  2.78  3.67  4.56  5.45  6.34  7.23  8.12  9.01  9.9 ]\n"
     ]
    },
    {
     "data": {
      "image/png": "[encoded data removed]",
      "text/plain": [
       "<matplotlib.figure.Figure at 0x28e73104400>"
      ]
     },
     "metadata": {},
     "output_type": "display_data"
    }
   ],
   "source": [
    "n_raw, bins_raw, patches = plt.hist(movie_df['Rating'])\n",
    "print(n_raw)\n",
    "print(bins_raw)"
   ]
  },
  {
   "cell_type": "markdown",
   "metadata": {},
   "source": [
    "Actually, `n_raw` contains the values of histograms, i.e., the number of movies in each of the 10 bins. Thus, the sum of the elements in `n_raw` should be equal to the total number of movies:"
   ]
  },
  {
   "cell_type": "code",
   "execution_count": 228,
   "metadata": {
    "collapsed": false
   },
   "outputs": [
    {
     "name": "stdout",
     "output_type": "stream",
     "text": [
      "The sum of the numbers in n_raw is equal to the number of movies which is 313011\n"
     ]
    }
   ],
   "source": [
    "# TODO: test whether the sum of the numbers in n_raw is equal to the number of movies. \n",
    "if len(movie_df) == int(sum(n_raw)):\n",
    "    print(\"The sum of the numbers in n_raw is equal to the number of movies which is \" + str(len(movie_df)))"
   ]
  },
  {
   "cell_type": "markdown",
   "metadata": {},
   "source": [
    "The second returned object (`bins_raw`) is a list containing the edges of the 10 bins: the first bin is \\[1.0,1.89\\], the second \\[1.89,2.78\\], and so on. We can calculate the width of each bin."
   ]
  },
  {
   "cell_type": "code",
   "execution_count": 229,
   "metadata": {
    "collapsed": false
   },
   "outputs": [
    {
     "name": "stdout",
     "output_type": "stream",
     "text": [
      "Bin 1 : [1.0,1.89]\n",
      "Bin 2 : [1.89,2.78]\n",
      "Bin 3 : [2.78,3.67]\n",
      "Bin 4 : [3.67,4.56]\n",
      "Bin 5 : [4.56,5.45]\n",
      "Bin 6 : [5.45,6.34]\n",
      "Bin 7 : [6.34,7.23]\n",
      "Bin 8 : [7.23,8.12]\n",
      "Bin 9 : [8.12,9.01]\n",
      "Bin 10 : [9.01,9.9]\n"
     ]
    }
   ],
   "source": [
    "# TODO: calculate the width of each bin and print them. \n",
    "for i in range(0, (len(bins_raw)-1)):\n",
    "    print(\"Bin \" + str(i+1) + \" : \" + \"[\" + str(bins_raw[i]) + \",\" + str(bins_raw[i+1]) + \"]\")"
   ]
  },
  {
   "cell_type": "markdown",
   "metadata": {},
   "source": [
    "The above `for` loop can be conveniently rewritten as the following, using [list comprehension](https://docs.python.org/2/tutorial/datastructures.html#list-comprehensions) and the [**`zip()`**](https://docs.python.org/3/library/functions.html#zip) function. Can you explain what's going on inside the zip?"
   ]
  },
  {
   "cell_type": "code",
   "execution_count": 230,
   "metadata": {
    "collapsed": false
   },
   "outputs": [
    {
     "data": {
      "text/plain": [
       "[0.89000000000000012,\n",
       " 0.89000000000000012,\n",
       " 0.88999999999999968,\n",
       " 0.89000000000000057,\n",
       " 0.88999999999999968,\n",
       " 0.88999999999999968,\n",
       " 0.89000000000000057,\n",
       " 0.89000000000000057,\n",
       " 0.88999999999999879,\n",
       " 0.89000000000000057]"
      ]
     },
     "execution_count": 230,
     "metadata": {},
     "output_type": "execute_result"
    }
   ],
   "source": [
    "[ j-i for i,j in zip(bins_raw[:-1],bins_raw[1:]) ]"
   ]
  },
  {
   "cell_type": "markdown",
   "metadata": {},
   "source": [
    "Noticed that the width of each bin is the same? This is equal-width binning. We can calculate the width as:"
   ]
  },
  {
   "cell_type": "code",
   "execution_count": 231,
   "metadata": {
    "collapsed": false
   },
   "outputs": [
    {
     "name": "stdout",
     "output_type": "stream",
     "text": [
      "1.0 9.9\n",
      "0.89\n"
     ]
    }
   ],
   "source": [
    "min_rating = min(movie_df['Rating'])\n",
    "max_rating = max(movie_df['Rating'])\n",
    "print(min_rating, max_rating)\n",
    "print( (max_rating-min_rating) / 10 )"
   ]
  },
  {
   "cell_type": "markdown",
   "metadata": {},
   "source": [
    "Now, let's plot the histogram where the y axis is normed."
   ]
  },
  {
   "cell_type": "code",
   "execution_count": 232,
   "metadata": {
    "collapsed": false,
    "scrolled": true
   },
   "outputs": [
    {
     "name": "stdout",
     "output_type": "stream",
     "text": [
      "[ 0.00295786  0.01207195  0.03411949  0.07612541  0.15255952  0.24908842\n",
      "  0.31039581  0.20841067  0.07731358  0.0005528 ]\n",
      "[ 1.    1.89  2.78  3.67  4.56  5.45  6.34  7.23  8.12  9.01  9.9 ]\n",
      "[   824.   3363.   9505.  21207.  42500.  69391.  86470.  58059.  21538.\n",
      "    154.]\n"
     ]
    },
    {
     "data": {
      "image/png": "[encoded data removed]",
      "text/plain": [
       "<matplotlib.figure.Figure at 0x28e731236a0>"
      ]
     },
     "metadata": {},
     "output_type": "display_data"
    }
   ],
   "source": [
    "n, bins, patches = plt.hist(movie_df['Rating'], normed=True)\n",
    "print(n)\n",
    "print(bins)\n",
    "print(n_raw)"
   ]
  },
  {
   "cell_type": "markdown",
   "metadata": {},
   "source": [
    "In this case, the edges of the 10 bins do not change. But now `n` represents the heights of the bins. Can you verify that matplotlib has correctly normed the heights of the bins?\n",
    "\n",
    "Hint: the area of each bin should be equal to the fraction of movies in that bin."
   ]
  },
  {
   "cell_type": "code",
   "execution_count": 233,
   "metadata": {
    "collapsed": false
   },
   "outputs": [
    {
     "name": "stdout",
     "output_type": "stream",
     "text": [
      "Bin 1 : Area of Bin = Fraction of Movies = 0.00263249534361\n",
      "Bin 2 : Area of Bin = Fraction of Movies = 0.0107440313599\n",
      "Bin 3 : Area of Bin = Fraction of Movies = 0.0303663449527\n",
      "Bin 4 : Area of Bin = Fraction of Movies = 0.0677516125631\n",
      "Bin 5 : Area of Bin = Fraction of Movies = 0.135777975854\n",
      "Bin 6 : Area of Bin = Fraction of Movies = 0.221688694647\n",
      "Bin 7 : Area of Bin = Fraction of Movies = 0.276252272284\n",
      "Bin 8 : Area of Bin = Fraction of Movies = 0.18548549412\n",
      "Bin 9 : Area of Bin = Fraction of Movies = 0.0688090833868\n",
      "Bin 10 : Area of Bin = Fraction of Movies = 0.000491995488976\n"
     ]
    }
   ],
   "source": [
    "# TODO: verify that it is properly normalized. \n",
    "width = 0\n",
    "total_movies = len(movie_df)\n",
    "for i in range(0, (len(bins_raw)-1)):\n",
    "    area = 0\n",
    "    frac_movies = 0\n",
    "    width = bins_raw[i+1] - bins_raw[i]\n",
    "    height = n[i]\n",
    "    area = str(width*height)\n",
    "    frac_movies = str(n_raw[i]/total_movies)\n",
    "    if area == frac_movies:\n",
    "        print(\"Bin \" + str(i+1) + \" : Area of Bin = Fraction of Movies = \" + str(area))"
   ]
  },
  {
   "cell_type": "markdown",
   "metadata": {},
   "source": [
    "## Selecting binsize"
   ]
  },
  {
   "cell_type": "markdown",
   "metadata": {},
   "source": [
    "A nice to way to explore this is using the \"[small multiples](https://www.google.com/search?client=safari&rls=en&q=small+multiples&ie=UTF-8&oe=UTF-8)\" with a set of sample bin sizes. In other words, pick some binsizes that you want to see and draw many plots within a single \"figure\". Read about [subplot](https://www.google.com/search?client=safari&rls=en&q=matplotlib+subplot&ie=UTF-8&oe=UTF-8). For instance, you can do something like:"
   ]
  },
  {
   "cell_type": "code",
   "execution_count": 234,
   "metadata": {
    "collapsed": false
   },
   "outputs": [
    {
     "data": {
      "text/plain": [
       "<matplotlib.axes._subplots.AxesSubplot at 0x28e733f8358>"
      ]
     },
     "execution_count": 234,
     "metadata": {},
     "output_type": "execute_result"
    },
    {
     "data": {
      "image/png": "[encoded data removed]",
      "text/plain": [
       "<matplotlib.figure.Figure at 0x28e73341240>"
      ]
     },
     "metadata": {},
     "output_type": "display_data"
    }
   ],
   "source": [
    "plt.figure(figsize=(10,5))\n",
    "plt.subplot(1,2,1)\n",
    "movie_df['Rating'].hist(bins=3)\n",
    "plt.subplot(1,2,2)\n",
    "movie_df['Rating'].hist(bins=100)"
   ]
  },
  {
   "cell_type": "markdown",
   "metadata": {},
   "source": [
    "What does the argument in `plt.subplot(1,2,1)` mean?  \n",
    "http://stackoverflow.com/questions/3584805/in-matplotlib-what-does-the-argument-mean-in-fig-add-subplot111\n",
    "\n",
    "Ok, so create 8 subplots (2 rows and 4 columns) with the given `binsizes`. "
   ]
  },
  {
   "cell_type": "code",
   "execution_count": 235,
   "metadata": {
    "collapsed": false
   },
   "outputs": [
    {
     "data": {
      "image/png": "[encoded data removed]",
      "text/plain": [
       "<matplotlib.figure.Figure at 0x28e73343f60>"
      ]
     },
     "metadata": {},
     "output_type": "display_data"
    }
   ],
   "source": [
    "binsizes = [2, 3, 5, 10, 30, 40, 60, 100 ]\n",
    "\n",
    "plt.figure(1, figsize=(18,8))\n",
    "for i, bins in enumerate(binsizes): \n",
    "    # TODO: use subplot and hist() function to draw 8 plots\n",
    "    plt.subplot(2,4,i+1)\n",
    "    movie_df['Rating'].hist(bins=bins)"
   ]
  },
  {
   "cell_type": "markdown",
   "metadata": {},
   "source": [
    "Do you notice weird patterns that emerge from `bins=40`? Can you guess why do you see such patterns? What are the peaks and what are the empty bars? What do they tell you about choosing the binsize in histograms?"
   ]
  },
  {
   "cell_type": "markdown",
   "metadata": {
    "collapsed": true
   },
   "source": [
    "**Answer:**\n",
    "Weird patterns start to emerge from bins = 40. These patterns emerge because as we narrow the size of the bins, we get a more intricate view of the data. Also, the values are classified in terms of numbers which are rounded off to or averaged off to the nearest whole number and hence all the intermediate values are put into adjacent bins. We obtain peaks of the data which is essentially signified by the height of the bars."
   ]
  },
  {
   "cell_type": "markdown",
   "metadata": {},
   "source": [
    "Now, let's try to apply several algorithms for finding the number of bins. "
   ]
  },
  {
   "cell_type": "code",
   "execution_count": 237,
   "metadata": {
    "collapsed": false
   },
   "outputs": [
    {
     "name": "stderr",
     "output_type": "stream",
     "text": [
      "C:\\Users\\user\\Anaconda3\\lib\\site-packages\\ipykernel\\__main__.py:24: FutureWarning: order is deprecated, use sort_values(...)\n"
     ]
    },
    {
     "data": {
      "text/plain": [
       "<matplotlib.axes._subplots.AxesSubplot at 0x28e75264160>"
      ]
     },
     "execution_count": 237,
     "metadata": {},
     "output_type": "execute_result"
    },
    {
     "data": {
      "image/png": "[encoded data removed]",
      "text/plain": [
       "<matplotlib.figure.Figure at 0x28e6f2f85f8>"
      ]
     },
     "metadata": {},
     "output_type": "display_data"
    }
   ],
   "source": [
    "N = len(movie_df['Rating'])\n",
    "\n",
    "# TODO: plot three histograms based on three formulae\n",
    "\n",
    "plt.figure(figsize=(12,4))\n",
    "\n",
    "# Sqrt \n",
    "\n",
    "nbins = int(np.sqrt(N))\n",
    "\n",
    "plt.subplot(1,3,1)\n",
    "plt.title(\"SQRT, {} bins\".format(nbins))\n",
    "movie_df['Rating'].hist(bins=nbins)\n",
    "\n",
    "# Sturge's formula\n",
    "\n",
    "nbins = int(np.ceil(np.log2(N) + 1))\n",
    "plt.subplot(1,3,2)\n",
    "plt.title(\"Struge's, {} bins\".format(nbins))\n",
    "movie_df['Rating'].hist(bins=nbins)\n",
    "\n",
    "# Freedman-Diaconis\n",
    "\n",
    "data = movie_df['Rating'].order()\n",
    "iqr = np.percentile(data, 75) - np.percentile(data, 25)\n",
    "width = 2*iqr/np.power(N, 1/3)\n",
    "\n",
    "nbins = int((max(data) - min(data)) / width)\n",
    "plt.subplot(1,3,3)\n",
    "plt.title(\"Freedman-Diaconis, {} bins\".format(nbins))\n",
    "movie_df['Rating'].hist(bins=nbins)\n",
    "\n"
   ]
  },
  {
   "cell_type": "markdown",
   "metadata": {},
   "source": [
    "# Investigating the anomalies in the histogram\n",
    "\n",
    "Let's investigate the anormalies in the histogram. "
   ]
  },
  {
   "cell_type": "code",
   "execution_count": 238,
   "metadata": {
    "collapsed": false
   },
   "outputs": [
    {
     "data": {
      "image/png": "[encoded data removed]",
      "text/plain": [
       "<matplotlib.figure.Figure at 0x28e6f14d470>"
      ]
     },
     "metadata": {},
     "output_type": "display_data"
    }
   ],
   "source": [
    "# TODO: draw the histogram with 120 bins\n",
    "n, bins, patches = plt.hist(movie_df['Rating'], bins=120)"
   ]
  },
  {
   "cell_type": "markdown",
   "metadata": {},
   "source": [
    "We can locate where the empty bins are, by checking whether the value in the n is zero or not. "
   ]
  },
  {
   "cell_type": "code",
   "execution_count": 239,
   "metadata": {
    "collapsed": false,
    "scrolled": true
   },
   "outputs": [
    {
     "name": "stdout",
     "output_type": "stream",
     "text": [
      "Bin 3 is empty ; Range : [1.2225,1.29666666667]\n",
      "Bin 7 is empty ; Range : [1.51916666667,1.59333333333]\n",
      "Bin 11 is empty ; Range : [1.81583333333,1.89]\n",
      "Bin 15 is empty ; Range : [2.1125,2.18666666667]\n",
      "Bin 19 is empty ; Range : [2.40916666667,2.48333333333]\n",
      "Bin 23 is empty ; Range : [2.70583333333,2.78]\n",
      "Bin 27 is empty ; Range : [3.0025,3.07666666667]\n",
      "Bin 30 is empty ; Range : [3.225,3.29916666667]\n",
      "Bin 34 is empty ; Range : [3.52166666667,3.59583333333]\n",
      "Bin 38 is empty ; Range : [3.81833333333,3.8925]\n",
      "Bin 42 is empty ; Range : [4.115,4.18916666667]\n",
      "Bin 46 is empty ; Range : [4.41166666667,4.48583333333]\n",
      "Bin 50 is empty ; Range : [4.70833333333,4.7825]\n",
      "Bin 54 is empty ; Range : [5.005,5.07916666667]\n",
      "Bin 58 is empty ; Range : [5.30166666667,5.37583333333]\n",
      "Bin 61 is empty ; Range : [5.52416666667,5.59833333333]\n",
      "Bin 65 is empty ; Range : [5.82083333333,5.895]\n",
      "Bin 69 is empty ; Range : [6.1175,6.19166666667]\n",
      "Bin 73 is empty ; Range : [6.41416666667,6.48833333333]\n",
      "Bin 77 is empty ; Range : [6.71083333333,6.785]\n",
      "Bin 81 is empty ; Range : [7.0075,7.08166666667]\n",
      "Bin 85 is empty ; Range : [7.30416666667,7.37833333333]\n",
      "Bin 89 is empty ; Range : [7.60083333333,7.675]\n",
      "Bin 92 is empty ; Range : [7.82333333333,7.8975]\n",
      "Bin 96 is empty ; Range : [8.12,8.19416666667]\n",
      "Bin 100 is empty ; Range : [8.41666666667,8.49083333333]\n",
      "Bin 104 is empty ; Range : [8.71333333333,8.7875]\n",
      "Bin 108 is empty ; Range : [9.01,9.08416666667]\n",
      "Bin 112 is empty ; Range : [9.30666666667,9.38083333333]\n",
      "Bin 116 is empty ; Range : [9.60333333333,9.6775]\n"
     ]
    }
   ],
   "source": [
    "# TODO: print out bins that doesn't contain any values. Check whether they fall into range like [1.8XX, 1.8XX]\n",
    "# useful zip: zip(bins[:-1], bins[1:], n)  what does this do?\n",
    "\n",
    "zipped = list((zip)(bins[:-1], bins[1:], n))\n",
    "for i in range(0,len(zipped)):\n",
    "    if zipped[i][2] == 0.0:\n",
    "        print(\"Bin \"+str(i)+\" is empty ;\"+\" Range : [\"+str(zipped[i][0])+\",\"+str(zipped[i][1])+\"]\")"
   ]
  },
  {
   "cell_type": "code",
   "execution_count": 247,
   "metadata": {
    "collapsed": false
   },
   "outputs": [
    {
     "data": {
      "image/png": "[encoded data removed]",
      "text/plain": [
       "<matplotlib.figure.Figure at 0x28e6d040a90>"
      ]
     },
     "metadata": {},
     "output_type": "display_data"
    }
   ],
   "source": [
    "# TODO: draw the histogram with 120 bins\n",
    "n, bins, patches = plt.hist(movie_df['Rating'], bins=120)"
   ]
  },
  {
   "cell_type": "markdown",
   "metadata": {},
   "source": [
    "One way to identify the peak is comparing the number to the next bin and see whether it is much higher than the next bin. "
   ]
  },
  {
   "cell_type": "code",
   "execution_count": 249,
   "metadata": {
    "collapsed": false
   },
   "outputs": [
    {
     "name": "stdout",
     "output_type": "stream",
     "text": [
      "[7.15583333333,7.23]\n"
     ]
    }
   ],
   "source": [
    "# TODO: identify peaks and print the bins with the peaks \n",
    "# e.g. \n",
    "# [1.0, 1.1]\n",
    "# [1.3, 1.4]\n",
    "# [1.6, 1.7]\n",
    "# ...\n",
    "#\n",
    "# you can use zip again like zip(bins[:-1], bins[1:]  ... ) to access the data in two adjacent bins.\n",
    "zipped = zip(bins[:-1], bins[1:],n)\n",
    "maxheight = max(n)\n",
    "for bin1, bin2, peak in zipped:\n",
    "    if peak == maxheight:\n",
    "        print(\"[\" + str(bin1) + \",\" + str(bin2) + \"]\")"
   ]
  },
  {
   "cell_type": "markdown",
   "metadata": {},
   "source": [
    "Ok. They doesn't necessarilly cover the integer values. Let's see the minimum number of votes. "
   ]
  },
  {
   "cell_type": "code",
   "execution_count": 250,
   "metadata": {
    "collapsed": false
   },
   "outputs": [
    {
     "data": {
      "text/html": [
       "<div>\n",
       "<table border=\"1\" class=\"dataframe\">\n",
       "  <thead>\n",
       "    <tr style=\"text-align: right;\">\n",
       "      <th></th>\n",
       "      <th>Year</th>\n",
       "      <th>Rating</th>\n",
       "      <th>Votes</th>\n",
       "    </tr>\n",
       "  </thead>\n",
       "  <tbody>\n",
       "    <tr>\n",
       "      <th>count</th>\n",
       "      <td>313011.000000</td>\n",
       "      <td>313011.000000</td>\n",
       "      <td>3.130110e+05</td>\n",
       "    </tr>\n",
       "    <tr>\n",
       "      <th>mean</th>\n",
       "      <td>1988.418334</td>\n",
       "      <td>6.296195</td>\n",
       "      <td>1.691232e+03</td>\n",
       "    </tr>\n",
       "    <tr>\n",
       "      <th>std</th>\n",
       "      <td>26.636414</td>\n",
       "      <td>1.363866</td>\n",
       "      <td>1.859371e+04</td>\n",
       "    </tr>\n",
       "    <tr>\n",
       "      <th>min</th>\n",
       "      <td>1874.000000</td>\n",
       "      <td>1.000000</td>\n",
       "      <td>5.000000e+00</td>\n",
       "    </tr>\n",
       "    <tr>\n",
       "      <th>25%</th>\n",
       "      <td>1974.000000</td>\n",
       "      <td>5.500000</td>\n",
       "      <td>1.000000e+01</td>\n",
       "    </tr>\n",
       "    <tr>\n",
       "      <th>50%</th>\n",
       "      <td>1999.000000</td>\n",
       "      <td>6.500000</td>\n",
       "      <td>2.500000e+01</td>\n",
       "    </tr>\n",
       "    <tr>\n",
       "      <th>75%</th>\n",
       "      <td>2009.000000</td>\n",
       "      <td>7.300000</td>\n",
       "      <td>1.105000e+02</td>\n",
       "    </tr>\n",
       "    <tr>\n",
       "      <th>max</th>\n",
       "      <td>2017.000000</td>\n",
       "      <td>9.900000</td>\n",
       "      <td>1.511933e+06</td>\n",
       "    </tr>\n",
       "  </tbody>\n",
       "</table>\n",
       "</div>"
      ],
      "text/plain": [
       "                Year         Rating         Votes\n",
       "count  313011.000000  313011.000000  3.130110e+05\n",
       "mean     1988.418334       6.296195  1.691232e+03\n",
       "std        26.636414       1.363866  1.859371e+04\n",
       "min      1874.000000       1.000000  5.000000e+00\n",
       "25%      1974.000000       5.500000  1.000000e+01\n",
       "50%      1999.000000       6.500000  2.500000e+01\n",
       "75%      2009.000000       7.300000  1.105000e+02\n",
       "max      2017.000000       9.900000  1.511933e+06"
      ]
     },
     "execution_count": 250,
     "metadata": {},
     "output_type": "execute_result"
    }
   ],
   "source": [
    "movie_df.describe()"
   ]
  },
  {
   "cell_type": "markdown",
   "metadata": {},
   "source": [
    "Ok, the minimum number of votes is 5 not 1. IMDB may only keep the rating information for movies with at least 5 votes. This may explain why the most frequent ratings are like 6.4 and 6.6. Let's plot the histogram with only the rows with 5 votes. Set the binsize 30. "
   ]
  },
  {
   "cell_type": "code",
   "execution_count": 251,
   "metadata": {
    "collapsed": false
   },
   "outputs": [
    {
     "data": {
      "text/plain": [
       "(array([   21.,    23.,    44.,    40.,   141.,   133.,   442.,   250.,\n",
       "          584.,   412.,  1030.,   611.,  1400.,   673.,   815.,  1696.,\n",
       "          922.,  1806.,  1017.,  1809.,   818.,  1469.,   689.,  1171.,\n",
       "          655.,   673.,   243.,    10.,     5.,     4.]),\n",
       " array([ 1.        ,  1.29333333,  1.58666667,  1.88      ,  2.17333333,\n",
       "         2.46666667,  2.76      ,  3.05333333,  3.34666667,  3.64      ,\n",
       "         3.93333333,  4.22666667,  4.52      ,  4.81333333,  5.10666667,\n",
       "         5.4       ,  5.69333333,  5.98666667,  6.28      ,  6.57333333,\n",
       "         6.86666667,  7.16      ,  7.45333333,  7.74666667,  8.04      ,\n",
       "         8.33333333,  8.62666667,  8.92      ,  9.21333333,  9.50666667,\n",
       "         9.8       ]),\n",
       " <a list of 30 Patch objects>)"
      ]
     },
     "execution_count": 251,
     "metadata": {},
     "output_type": "execute_result"
    },
    {
     "data": {
      "image/png": "[encoded data removed]",
      "text/plain": [
       "<matplotlib.figure.Figure at 0x28e6f35d9e8>"
      ]
     },
     "metadata": {},
     "output_type": "display_data"
    }
   ],
   "source": [
    "# TODO: plot the histogram only with ratings that have the minimum number of votes.\n",
    "min_votes = movie_df[movie_df['Votes'] == 5]\n",
    "plt.hist(min_votes['Rating'], bins=30)"
   ]
  },
  {
   "cell_type": "markdown",
   "metadata": {},
   "source": [
    "Then, print out what are the most frequent rating values. Use `value_counts()` function for dataframe. "
   ]
  },
  {
   "cell_type": "code",
   "execution_count": 252,
   "metadata": {
    "collapsed": false,
    "scrolled": true
   },
   "outputs": [
    {
     "data": {
      "text/plain": [
       "6.4    1017\n",
       "6.6     932\n",
       "6.2     923\n",
       "5.8     922\n",
       "6.0     883\n",
       "6.8     877\n",
       "5.6     861\n",
       "5.4     835\n",
       "7.0     818\n",
       "5.2     815\n",
       "4.8     760\n",
       "7.2     735\n",
       "7.4     734\n",
       "7.6     689\n",
       "5.0     673\n",
       "8.2     655\n",
       "4.6     640\n",
       "7.8     621\n",
       "4.4     611\n",
       "4.2     565\n",
       "8.0     550\n",
       "4.0     465\n",
       "3.8     412\n",
       "8.4     366\n",
       "8.6     307\n",
       "3.6     295\n",
       "3.4     289\n",
       "3.2     250\n",
       "8.8     243\n",
       "2.8     226\n",
       "3.0     216\n",
       "2.6     133\n",
       "2.4      81\n",
       "2.2      60\n",
       "2.0      40\n",
       "1.8      28\n",
       "1.4      23\n",
       "1.6      16\n",
       "1.0      15\n",
       "1.2       6\n",
       "9.2       5\n",
       "9.4       5\n",
       "9.0       5\n",
       "9.8       2\n",
       "9.6       2\n",
       "Name: Rating, dtype: int64"
      ]
     },
     "execution_count": 252,
     "metadata": {},
     "output_type": "execute_result"
    }
   ],
   "source": [
    "# TODO: filter out the rows with the min number of votes (5) and then `value_counts()` them. \n",
    "# sort the result to see what are the most common numbers. \n",
    "min_votes = movie_df[movie_df['Votes'] == 5]\n",
    "min_votes['Rating'].value_counts(sort=True, ascending=False)"
   ]
  },
  {
   "cell_type": "markdown",
   "metadata": {},
   "source": [
    "# Boxplot"
   ]
  },
  {
   "cell_type": "markdown",
   "metadata": {},
   "source": [
    "Let's look at the example data that we looked at during the class. "
   ]
  },
  {
   "cell_type": "code",
   "execution_count": 253,
   "metadata": {
    "collapsed": true
   },
   "outputs": [],
   "source": [
    "data = [-1, 3, 3, 4, 15, 16, 16, 17, 23, 24, 24, 25, 35, 36, 37, 46]"
   ]
  },
  {
   "cell_type": "markdown",
   "metadata": {},
   "source": [
    "The [**`numpy.percentile()`**](http://docs.scipy.org/doc/numpy-dev/reference/generated/numpy.percentile.html) function provides a way to calculate the percentiles. Note that using the option `interpolation`, you can specify which value to take when the percentile value lies in between numbers. The default is linear. "
   ]
  },
  {
   "cell_type": "code",
   "execution_count": 254,
   "metadata": {
    "collapsed": false
   },
   "outputs": [
    {
     "name": "stdout",
     "output_type": "stream",
     "text": [
      "12.25\n",
      "20.0 20.0\n",
      "27.5\n"
     ]
    }
   ],
   "source": [
    "print(np.percentile(data, 25))\n",
    "print(np.percentile(data, 50), np.median(data))\n",
    "print(np.percentile(data, 75))"
   ]
  },
  {
   "cell_type": "markdown",
   "metadata": {},
   "source": [
    "Can you explain why do you get those first and third quartile values? The first quantile value is not 4, not 15, and not 9.5. Why?"
   ]
  },
  {
   "cell_type": "raw",
   "metadata": {},
   "source": [
    "# TODO: explain\n",
    "The expected first quantile value are 4, 15 or 9.5 but when we calculate the result obtained is 12.25! This is because first quatile value is essentially the median of the first half of the data. Median is the mid value of the entire data. And, third quantile is the median of the second half of the data."
   ]
  },
  {
   "cell_type": "markdown",
   "metadata": {},
   "source": [
    "Let's draw a boxplot with matplotlib. "
   ]
  },
  {
   "cell_type": "code",
   "execution_count": 255,
   "metadata": {
    "collapsed": false
   },
   "outputs": [
    {
     "data": {
      "text/plain": [
       "{'boxes': [<matplotlib.lines.Line2D at 0x28e6febc828>],\n",
       " 'caps': [<matplotlib.lines.Line2D at 0x28e6fec0c50>,\n",
       "  <matplotlib.lines.Line2D at 0x28e6fec4be0>],\n",
       " 'fliers': [<matplotlib.lines.Line2D at 0x28e73198cc0>],\n",
       " 'means': [],\n",
       " 'medians': [<matplotlib.lines.Line2D at 0x28e6fec4d30>],\n",
       " 'whiskers': [<matplotlib.lines.Line2D at 0x28e6febca20>,\n",
       "  <matplotlib.lines.Line2D at 0x28e6fec0b00>]}"
      ]
     },
     "execution_count": 255,
     "metadata": {},
     "output_type": "execute_result"
    },
    {
     "data": {
      "image/png": "[encoded data removed]",
      "text/plain": [
       "<matplotlib.figure.Figure at 0x28e7526dcc0>"
      ]
     },
     "metadata": {},
     "output_type": "display_data"
    }
   ],
   "source": [
    "# TODO: draw a boxplot of the data\n",
    "plt.boxplot(data)"
   ]
  }
 ],
 "metadata": {
  "anaconda-cloud": {},
  "kernelspec": {
   "display_name": "Python [Root]",
   "language": "python",
   "name": "Python [Root]"
  },
  "language_info": {
   "codemirror_mode": {
    "name": "ipython",
    "version": 3
   },
   "file_extension": ".py",
   "mimetype": "text/x-python",
   "name": "python",
   "nbconvert_exporter": "python",
   "pygments_lexer": "ipython3",
   "version": "3.5.2"
  }
 },
 "nbformat": 4,
 "nbformat_minor": 0
}
