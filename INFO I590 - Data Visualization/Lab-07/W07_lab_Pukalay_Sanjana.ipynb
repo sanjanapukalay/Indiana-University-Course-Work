{
 "cells": [
  {
   "cell_type": "markdown",
   "metadata": {},
   "source": [
    "# W7 Lab Assignment\n"
   ]
  },
  {
   "cell_type": "code",
   "execution_count": 1,
   "metadata": {
    "collapsed": false
   },
   "outputs": [],
   "source": [
    "import matplotlib.pyplot as plt\n",
    "import pandas as pd\n",
    "import seaborn as sns\n",
    "import numpy as np\n",
    "import random\n",
    "sns.set_style('white')\n",
    "import statsmodels.api as sm \n",
    "\n",
    "\n",
    "%matplotlib inline"
   ]
  },
  {
   "cell_type": "markdown",
   "metadata": {},
   "source": [
    "# Cumulative histogram and CDF\n",
    "\n",
    "How can we plot a cumulative histogram? "
   ]
  },
  {
   "cell_type": "code",
   "execution_count": 2,
   "metadata": {
    "collapsed": false
   },
   "outputs": [],
   "source": [
    "# TODO: Load IMDB data into movie_df using pandas\n",
    "movie_df= pd.read_csv(\"imdb.csv\", delimiter='\\t')"
   ]
  },
  {
   "cell_type": "code",
   "execution_count": 3,
   "metadata": {
    "collapsed": false
   },
   "outputs": [
    {
     "data": {
      "text/plain": [
       "(array([  2.74000000e+02,   8.24000000e+02,   2.22900000e+03,\n",
       "          4.18700000e+03,   8.52700000e+03,   1.36920000e+04,\n",
       "          2.34470000e+04,   3.48990000e+04,   5.54730000e+04,\n",
       "          7.73990000e+04,   1.05035000e+05,   1.46790000e+05,\n",
       "          1.84324000e+05,   2.33260000e+05,   2.62636000e+05,\n",
       "          2.91319000e+05,   3.06381000e+05,   3.12857000e+05,\n",
       "          3.12995000e+05,   3.13011000e+05]),\n",
       " array([ 1.   ,  1.445,  1.89 ,  2.335,  2.78 ,  3.225,  3.67 ,  4.115,\n",
       "         4.56 ,  5.005,  5.45 ,  5.895,  6.34 ,  6.785,  7.23 ,  7.675,\n",
       "         8.12 ,  8.565,  9.01 ,  9.455,  9.9  ]),\n",
       " <a list of 20 Patch objects>)"
      ]
     },
     "execution_count": 3,
     "metadata": {},
     "output_type": "execute_result"
    },
    {
     "data": {
      "image/png": "[encoded data removed]",
      "text/plain": [
       "<matplotlib.figure.Figure at 0x28960ab2128>"
      ]
     },
     "metadata": {},
     "output_type": "display_data"
    }
   ],
   "source": [
    "# TODO: draw a cumulative histogram of movie ratings with 20 bins. Hint: use plt.hist()\n",
    "plt.hist(movie_df['Rating'], bins = 20, cumulative= True)"
   ]
  },
  {
   "cell_type": "code",
   "execution_count": 4,
   "metadata": {
    "collapsed": false
   },
   "outputs": [
    {
     "data": {
      "text/plain": [
       "(array([  8.75368597e-04,   2.63249534e-03,   7.12115549e-03,\n",
       "          1.33765267e-02,   2.72418541e-02,   4.37428717e-02,\n",
       "          7.49079106e-02,   1.11494484e-01,   1.77223804e-01,\n",
       "          2.47272460e-01,   3.35563287e-01,   4.68961155e-01,\n",
       "          5.88873873e-01,   7.45213427e-01,   8.39063164e-01,\n",
       "          9.30698921e-01,   9.78818636e-01,   9.99508005e-01,\n",
       "          9.99948884e-01,   1.00000000e+00]),\n",
       " array([ 1.   ,  1.445,  1.89 ,  2.335,  2.78 ,  3.225,  3.67 ,  4.115,\n",
       "         4.56 ,  5.005,  5.45 ,  5.895,  6.34 ,  6.785,  7.23 ,  7.675,\n",
       "         8.12 ,  8.565,  9.01 ,  9.455,  9.9  ]),\n",
       " <a list of 20 Patch objects>)"
      ]
     },
     "execution_count": 4,
     "metadata": {},
     "output_type": "execute_result"
    },
    {
     "data": {
      "image/png": "[encoded data removed]",
      "text/plain": [
       "<matplotlib.figure.Figure at 0x28960ab2048>"
      ]
     },
     "metadata": {},
     "output_type": "display_data"
    }
   ],
   "source": [
    "# TODO: same histogram, but with normalization \n",
    "plt.hist(movie_df['Rating'], bins = 20, cumulative= True, normed= True)"
   ]
  },
  {
   "cell_type": "markdown",
   "metadata": {},
   "source": [
    "Does it reach 1.0? Why should it become 1.0 at the right end? Also you can do the plot with pandas. "
   ]
  },
  {
   "cell_type": "code",
   "execution_count": 5,
   "metadata": {
    "collapsed": false
   },
   "outputs": [
    {
     "data": {
      "text/plain": [
       "<matplotlib.axes._subplots.AxesSubplot at 0x2895dfc4390>"
      ]
     },
     "execution_count": 5,
     "metadata": {},
     "output_type": "execute_result"
    },
    {
     "data": {
      "image/png": "[encoded data removed]",
      "text/plain": [
       "<matplotlib.figure.Figure at 0x2895dfca8d0>"
      ]
     },
     "metadata": {},
     "output_type": "display_data"
    }
   ],
   "source": [
    "# TODO: same plot, but call directly from dataframe movie_df\n",
    "movie_df['Rating'].hist(bins = 20, cumulative= True, normed= True)"
   ]
  },
  {
   "cell_type": "markdown",
   "metadata": {},
   "source": [
    "## CDF"
   ]
  },
  {
   "cell_type": "markdown",
   "metadata": {},
   "source": [
    "Let's make it CDF rather than cumulative histogram. You can sort a Series with `order` function. You can use [`np.linspace`](http://docs.scipy.org/doc/numpy/reference/generated/numpy.linspace.html) to generate a list of evenly spaced value. "
   ]
  },
  {
   "cell_type": "code",
   "execution_count": 7,
   "metadata": {
    "collapsed": false
   },
   "outputs": [
    {
     "data": {
      "image/png": "[encoded data removed]",
      "text/plain": [
       "<matplotlib.figure.Figure at 0x2895e2b4438>"
      ]
     },
     "metadata": {},
     "output_type": "display_data"
    }
   ],
   "source": [
    "# TODO: plot CDF (not cumulative histogram) of movie ratings. \n",
    "cdf = sm.distributions.ECDF(movie_df['Rating'])\n",
    "x= np.linspace(min(movie_df['Rating']), max(movie_df['Rating']), num=100)\n",
    "y= cdf(x)  \n",
    "plt.plot(x,y)\n",
    "plt.show()"
   ]
  },
  {
   "cell_type": "markdown",
   "metadata": {},
   "source": [
    "The main advantange of CDF is that we can directly observe percentiles from the plot. Given the number of movies we have, can you estimate the following statistics by observing the plot? Compare your estimation to the precise results calculated from movie_df.\n",
    "\n",
    "- The numer of movies with rating <= 7\n",
    "- The median rating of movies\n",
    "- The rating which 90% of movies are under or equal to\n"
   ]
  },
  {
   "cell_type": "markdown",
   "metadata": {
    "collapsed": true
   },
   "source": [
    "#TODO: provide your estimations.\n",
    "\n",
    "My Estimations\n",
    "\n",
    "- The numer of movies with rating <= 7 is 70 %\n",
    "- The median rating of movies is 6.5\n",
    "- The rating which 90% of movies are under or equal t is 8\n"
   ]
  },
  {
   "cell_type": "code",
   "execution_count": 8,
   "metadata": {
    "collapsed": false
   },
   "outputs": [
    {
     "name": "stdout",
     "output_type": "stream",
     "text": [
      "0.683065451374\n",
      "6.5\n",
      "8.0\n"
     ]
    }
   ],
   "source": [
    "#TODO: calculate the statistics from movie_df.\n",
    "print((movie_df[(movie_df['Rating'] <= 7)].Rating.count())/(len(movie_df['Rating'])))\n",
    "print(movie_df['Rating'].median())\n",
    "print(movie_df['Rating'].quantile(.9))"
   ]
  },
  {
   "cell_type": "markdown",
   "metadata": {},
   "source": [
    "Almost all of them matched my expectations!"
   ]
  },
  {
   "cell_type": "markdown",
   "metadata": {},
   "source": [
    "# Bootstrap Resampling"
   ]
  },
  {
   "cell_type": "markdown",
   "metadata": {},
   "source": [
    "Let's imagine that we only have a sample of the IMDB data, say 50 movies. How much can we infer about the original data from this small sample? This is a question that we encounter very often in statistical analysis.\n",
    "\n",
    "In such situations, we can seek help from the bootstraping method. This is a family of statistical methods that relies on random sampling with replacement. Different to the traditional methods, it does not assume that our data follows a particular distribution, and so is very flexible to use."
   ]
  },
  {
   "cell_type": "code",
   "execution_count": 9,
   "metadata": {
    "collapsed": true
   },
   "outputs": [],
   "source": [
    "#create a random sample from the movie table.\n",
    "movie_df_sample = movie_df.sample(50)"
   ]
  },
  {
   "cell_type": "code",
   "execution_count": 10,
   "metadata": {
    "collapsed": false
   },
   "outputs": [
    {
     "data": {
      "text/plain": [
       "50"
      ]
     },
     "execution_count": 10,
     "metadata": {},
     "output_type": "execute_result"
    }
   ],
   "source": [
    "len(movie_df_sample)"
   ]
  },
  {
   "cell_type": "markdown",
   "metadata": {},
   "source": [
    "Now we have a sample with size = 50. We can compute, for example, the mean of movie ratings in this sample:"
   ]
  },
  {
   "cell_type": "code",
   "execution_count": 11,
   "metadata": {
    "collapsed": false
   },
   "outputs": [
    {
     "name": "stdout",
     "output_type": "stream",
     "text": [
      "Mean of sample:  6.446000000000001\n"
     ]
    }
   ],
   "source": [
    "print('Mean of sample: ', movie_df_sample.Rating.mean())"
   ]
  },
  {
   "cell_type": "markdown",
   "metadata": {},
   "source": [
    "But we only have one statistic. How can we know if this correctly represents the mean of the actual data? We need to compute a confidence interval. This is when we can use bootstrapping."
   ]
  },
  {
   "cell_type": "markdown",
   "metadata": {},
   "source": [
    "First, Let's create a function that does the resampling with replacement. It should create a list of the same length as the sample(50 in this case), in which each element is taken randomly from the sample. In this way, some elements may appear more than once, and some none. Then we calculate the mean value of this list.  "
   ]
  },
  {
   "cell_type": "code",
   "execution_count": 12,
   "metadata": {
    "collapsed": true
   },
   "outputs": [],
   "source": [
    "def bootstrap_resample(rating_list,n):\n",
    "    resampled_list = []\n",
    "    sampled_means = []\n",
    "    #todo: write the function that returns the mean of resampled list.\n",
    "    for j in range(1,n):\n",
    "        for i in range(1,len(movie_df_sample)):\n",
    "            x = movie_df_sample.Rating.sample(1)\n",
    "            resampled_list.append(x.get_values())\n",
    "        sampled_means.append(np.mean(resampled_list))\n",
    "    return sampled_means"
   ]
  },
  {
   "cell_type": "markdown",
   "metadata": {},
   "source": [
    "We don't usually just do this once: the typical minimal resample number is 1000. We can create a new list to keep this 1000 mean values."
   ]
  },
  {
   "cell_type": "code",
   "execution_count": 13,
   "metadata": {
    "collapsed": false
   },
   "outputs": [],
   "source": [
    "#todo: call the function 1000 times and populate the list with its returned values.\n",
    "sample_means = []\n",
    "sample_means = bootstrap_resample(movie_df_sample,1000)"
   ]
  },
  {
   "cell_type": "code",
   "execution_count": 14,
   "metadata": {
    "collapsed": false
   },
   "outputs": [
    {
     "data": {
      "text/plain": [
       "(array([ 844.,  131.,    2.,    2.,    3.,    9.,    4.,    1.,    1.,    2.]),\n",
       " array([ 6.43058705,  6.45120181,  6.47181658,  6.49243134,  6.51304611,\n",
       "         6.53366087,  6.55427564,  6.5748904 ,  6.59550517,  6.61611993,\n",
       "         6.63673469]),\n",
       " <a list of 10 Patch objects>)"
      ]
     },
     "execution_count": 14,
     "metadata": {},
     "output_type": "execute_result"
    },
    {
     "data": {
      "image/png": "[encoded data removed]",
      "text/plain": [
       "<matplotlib.figure.Figure at 0x2895e3188d0>"
      ]
     },
     "metadata": {},
     "output_type": "display_data"
    }
   ],
   "source": [
    "plt.hist(sample_means)"
   ]
  },
  {
   "cell_type": "markdown",
   "metadata": {},
   "source": [
    "Now we can compute the confidence interval. Say we want the 90% confidence, then we only need to pick out the .95 and .05 critical values."
   ]
  },
  {
   "cell_type": "code",
   "execution_count": 15,
   "metadata": {
    "collapsed": false
   },
   "outputs": [
    {
     "name": "stdout",
     "output_type": "stream",
     "text": [
      "50.0 950.0\n"
     ]
    }
   ],
   "source": [
    "print(1000*0.05, 1000*0.95)"
   ]
  },
  {
   "cell_type": "markdown",
   "metadata": {},
   "source": [
    "That is, we need to pick the 50th and 950th largest values from the list. We can name it x_a and x_b."
   ]
  },
  {
   "cell_type": "code",
   "execution_count": 16,
   "metadata": {
    "collapsed": false
   },
   "outputs": [],
   "source": [
    "#todo: sort the list by ascending and pick out the 50th and 950th value. \n",
    "sample = sorted(sample_means)\n",
    "x_a = sample[49]\n",
    "x_b = sample[949]"
   ]
  },
  {
   "cell_type": "markdown",
   "metadata": {},
   "source": [
    "Let x be the mean value of the sample, we have:"
   ]
  },
  {
   "cell_type": "code",
   "execution_count": 17,
   "metadata": {
    "collapsed": false
   },
   "outputs": [],
   "source": [
    "x = movie_df_sample.Rating.mean()"
   ]
  },
  {
   "cell_type": "markdown",
   "metadata": {},
   "source": [
    "The confidence interval will then be: `[x - (x - x_a), x + (x_b - x)]`."
   ]
  },
  {
   "cell_type": "code",
   "execution_count": 18,
   "metadata": {
    "collapsed": true
   },
   "outputs": [],
   "source": [
    "#todo: calculate the confidence interval. \n",
    "#Does the mean of the original data fall within this interval? Show your statistics.\n",
    "confidence_interval = []\n",
    "confidence_interval.append(x - (x - x_a))\n",
    "confidence_interval.append(x + (x - x_a))"
   ]
  },
  {
   "cell_type": "code",
   "execution_count": 19,
   "metadata": {
    "collapsed": false
   },
   "outputs": [
    {
     "data": {
      "text/plain": [
       "[6.4373190685966009, 6.4546809314034004]"
      ]
     },
     "execution_count": 19,
     "metadata": {},
     "output_type": "execute_result"
    }
   ],
   "source": [
    "confidence_interval"
   ]
  },
  {
   "cell_type": "code",
   "execution_count": 20,
   "metadata": {
    "collapsed": false
   },
   "outputs": [
    {
     "name": "stdout",
     "output_type": "stream",
     "text": [
      "6.296195341377723\n"
     ]
    }
   ],
   "source": [
    "print(movie_df.Rating.mean())"
   ]
  },
  {
   "cell_type": "markdown",
   "metadata": {},
   "source": [
    "Yes,the mean of the original data fall within the interval. It's quite amusing!"
   ]
  },
  {
   "cell_type": "code",
   "execution_count": null,
   "metadata": {
    "collapsed": true
   },
   "outputs": [],
   "source": []
  }
 ],
 "metadata": {
  "anaconda-cloud": {},
  "kernelspec": {
   "display_name": "Python [Root]",
   "language": "python",
   "name": "Python [Root]"
  },
  "language_info": {
   "codemirror_mode": {
    "name": "ipython",
    "version": 3
   },
   "file_extension": ".py",
   "mimetype": "text/x-python",
   "name": "python",
   "nbconvert_exporter": "python",
   "pygments_lexer": "ipython3",
   "version": "3.5.2"
  }
 },
 "nbformat": 4,
 "nbformat_minor": 0
}
