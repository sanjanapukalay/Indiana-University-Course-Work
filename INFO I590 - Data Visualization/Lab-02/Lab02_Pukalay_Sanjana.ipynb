{
 "cells": [
  {
   "cell_type": "markdown",
   "metadata": {},
   "source": [
    "# W2 Lab Assignment\n",
    "\n",
    "[Internet Movie Database (IMDb)](http://www.imdb.com/) provides various information about movies, such as total budgets, lengths, actors, and user ratings. They are publicly available from [here](http://www.imdb.com/interfaces). In this lab, let's explore a processed dataset named 'imdb.csv', which contains some basic information of movies.\n",
    "\n",
    "Download the file from Canvas. There are 4 columns separated by tab:\n",
    "\n",
    "1. Title: title of the movie;\n",
    "1. Year: release year;\n",
    "1. Rating: average IMDb user rating;\n",
    "1. Votes: number of IMDB users who rated this movie\n",
    "\n",
    "First, we want to get some insights from the data with Python; then we want to display information on a web page and prettify it with html/css.\n",
    "\n",
    "Things to note:\n",
    "\n",
    "1. Let's use Python 3.5;\n",
    "2. There are 313,012 lines in the file. When printing things, print selectively.\n"
   ]
  },
  {
   "cell_type": "markdown",
   "metadata": {},
   "source": [
    "# Part 1. Data manipulation with Python"
   ]
  },
  {
   "cell_type": "markdown",
   "metadata": {},
   "source": [
    "## Q1: What is the first and last year in this dataset? How many movies released in each year?\n",
    "\n",
    "To do this, we first need to read the CSV file. Python provides the [csv](https://docs.python.org/2/library/csv.html) module to read and write CSV files. The [`csv.reader`](https://docs.python.org/2/library/csv.html#csv.reader) function returns a Python object which will iterate over lines in the given file. Each line is returned as a list of strings, so that we can access a particular column using list index. If we want to ignore the first line, we can use [`islice`](https://docs.python.org/2/library/itertools.html#itertools.islice). It is like slicing a list, but it can slice an iterator (e.g. file stream). For instance, `islice(reader, 0, 5)` means \"give me the first 5 items from the `reader`\". `islice(reader, 1, 5)` means \"give me the 4 items starting from the second item\". \n",
    "\n",
    "A basic usage example to read the first 11 lines of 'imdb.csv':"
   ]
  },
  {
   "cell_type": "code",
   "execution_count": 38,
   "metadata": {
    "collapsed": false,
    "scrolled": true
   },
   "outputs": [
    {
     "name": "stdout",
     "output_type": "stream",
     "text": [
      "['Title', 'Year', 'Rating', 'Votes']\n",
      "Year\n",
      "['!Next?', '1994', '5.4', '5']\n",
      "1994\n",
      "['#1 Single', '2006', '6.1', '61']\n",
      "2006\n",
      "['#7DaysLater', '2013', '7.1', '14']\n",
      "2013\n",
      "['#Bikerlive', '2014', '6.8', '11']\n",
      "2014\n"
     ]
    }
   ],
   "source": [
    "import csv\n",
    "from itertools import islice\n",
    "\n",
    "f = open('imdb.csv', 'r')\n",
    "reader = csv.reader(f, delimiter='\\t')\n",
    "for row in islice(reader, 0, 5):\n",
    "    print(row)\n",
    "    print(row[1])"
   ]
  },
  {
   "cell_type": "markdown",
   "metadata": {},
   "source": [
    "There are many ways to do Q1. One way is to use [dictionaries](https://docs.python.org/2/tutorial/datastructures.html#dictionaries) where the key: value pairs are:\n",
    "\n",
    "- key: year\n",
    "- value: a list of movie titles or number of movies\n"
   ]
  },
  {
   "cell_type": "code",
   "execution_count": 2,
   "metadata": {
    "collapsed": false
   },
   "outputs": [
    {
     "name": "stdout",
     "output_type": "stream",
     "text": [
      "{1972: 1}\n"
     ]
    }
   ],
   "source": [
    "dt = {}\n",
    "year = 1972\n",
    "if year not in dt:\n",
    "    dt[year] = 1\n",
    "else:\n",
    "    dt[year] += 1\n",
    "print(dt)"
   ]
  },
  {
   "cell_type": "markdown",
   "metadata": {},
   "source": [
    "Python automates the job above by using [`Counter`](https://docs.python.org/3.4/library/collections.html#collections.Counter). "
   ]
  },
  {
   "cell_type": "code",
   "execution_count": 3,
   "metadata": {
    "collapsed": false
   },
   "outputs": [
    {
     "name": "stdout",
     "output_type": "stream",
     "text": [
      "1\n",
      "0\n"
     ]
    }
   ],
   "source": [
    "from collections import Counter\n",
    "\n",
    "movie_counter = Counter()\n",
    "movie_counter[1972] +=1 \n",
    "print(movie_counter[1972])\n",
    "print(movie_counter[1970])"
   ]
  },
  {
   "cell_type": "markdown",
   "metadata": {},
   "source": [
    "Once all lines are read, we want to print the dictionary, which can be done by iterating its key: value pairs."
   ]
  },
  {
   "cell_type": "code",
   "execution_count": 4,
   "metadata": {
    "collapsed": false
   },
   "outputs": [
    {
     "name": "stdout",
     "output_type": "stream",
     "text": [
      "1972 1\n",
      "1972 1\n"
     ]
    }
   ],
   "source": [
    "for key,val in dt.items():\n",
    "    print(key,val)\n",
    "for key,val in movie_counter.items():\n",
    "    print(key,val)"
   ]
  },
  {
   "cell_type": "markdown",
   "metadata": {},
   "source": [
    "You can get the keys (the years) by using `.keys()` function. "
   ]
  },
  {
   "cell_type": "code",
   "execution_count": 5,
   "metadata": {
    "collapsed": false
   },
   "outputs": [
    {
     "data": {
      "text/plain": [
       "dict_keys([1980, 1972, 2015])"
      ]
     },
     "execution_count": 5,
     "metadata": {},
     "output_type": "execute_result"
    }
   ],
   "source": [
    "movie_counter[1980] += 5\n",
    "movie_counter[2015] += 1\n",
    "movie_counter.keys()"
   ]
  },
  {
   "cell_type": "markdown",
   "metadata": {},
   "source": [
    "and you have convenient functions like [`min()`](https://docs.python.org/2/library/functions.html#min) and [`max()`](https://docs.python.org/2/library/functions.html#max) for calculating the min and max value of a list or iterable. "
   ]
  },
  {
   "cell_type": "code",
   "execution_count": 6,
   "metadata": {
    "collapsed": false
   },
   "outputs": [
    {
     "name": "stdout",
     "output_type": "stream",
     "text": [
      "0\n",
      "1000\n"
     ]
    }
   ],
   "source": [
    "alist = [23,3,5,4,2,1,1,0,1000]\n",
    "print(min(alist))\n",
    "print(max(alist))"
   ]
  },
  {
   "cell_type": "markdown",
   "metadata": {},
   "source": [
    "**Code for Q1**"
   ]
  },
  {
   "cell_type": "code",
   "execution_count": 3,
   "metadata": {
    "collapsed": false
   },
   "outputs": [
    {
     "name": "stdout",
     "output_type": "stream",
     "text": [
      "First Year: 1874\n",
      "Last Year: 2017\n"
     ]
    }
   ],
   "source": [
    "# implement below\n",
    "\n",
    "#Finding min and max year\n",
    "\n",
    "import pandas as pd\n",
    "\n",
    "data = pd.read_csv('imdb.csv',sep='\\t')\n",
    "print(\"First Year:\",min(data['Year']))\n",
    "print(\"Last Year:\",max(data['Year']))"
   ]
  },
  {
   "cell_type": "code",
   "execution_count": 4,
   "metadata": {
    "collapsed": false
   },
   "outputs": [
    {
     "name": "stdout",
     "output_type": "stream",
     "text": [
      "Year\n",
      "1874        1\n",
      "1878        1\n",
      "1887        1\n",
      "1888        5\n",
      "1889        2\n",
      "1890        5\n",
      "1891        9\n",
      "1892        9\n",
      "1893        2\n",
      "1894       94\n",
      "1895      116\n",
      "1896      678\n",
      "1897      479\n",
      "1898      321\n",
      "1899      242\n",
      "1900      265\n",
      "1901      254\n",
      "1902      217\n",
      "1903      261\n",
      "1904      214\n",
      "1905      177\n",
      "1906      182\n",
      "1907      197\n",
      "1908      267\n",
      "1909      405\n",
      "1910      389\n",
      "1911      309\n",
      "1912      376\n",
      "1913      311\n",
      "1914      315\n",
      "        ...  \n",
      "1988     3054\n",
      "1989     3193\n",
      "1990     3093\n",
      "1991     2993\n",
      "1992     3136\n",
      "1993     3128\n",
      "1994     3415\n",
      "1995     3698\n",
      "1996     3923\n",
      "1997     4353\n",
      "1998     4651\n",
      "1999     5138\n",
      "2000     5575\n",
      "2001     6042\n",
      "2002     6694\n",
      "2003     7355\n",
      "2004     8584\n",
      "2005     9508\n",
      "2006    10115\n",
      "2007    10147\n",
      "2008    11095\n",
      "2009    12268\n",
      "2010    12931\n",
      "2011    13944\n",
      "2012    13887\n",
      "2013    13048\n",
      "2014    10862\n",
      "2015     4402\n",
      "2016        2\n",
      "2017        1\n",
      "Name: Title, dtype: int64\n"
     ]
    }
   ],
   "source": [
    "#Finding the number of movies released in each year\n",
    "\n",
    "movie_count = data.groupby(data['Year']).count()\n",
    "print(movie_count['Title'])"
   ]
  },
  {
   "cell_type": "markdown",
   "metadata": {},
   "source": [
    "## Q2: What is the average ratings/votes?\n",
    "\n",
    "We can store the ratings/votes column as a list and then calculate various basic statistics (mean, median, etc.). To do this, we can use the [NumPy](http://www.numpy.org/) library and call the function [`numpy.mean`](http://docs.scipy.org/doc/numpy/reference/generated/numpy.mean.html) and [`numpy.median`](http://docs.scipy.org/doc/numpy/reference/generated/numpy.median.html). For example,"
   ]
  },
  {
   "cell_type": "code",
   "execution_count": 10,
   "metadata": {
    "collapsed": false
   },
   "outputs": [],
   "source": [
    "import numpy as np\n",
    "\n",
    "alist = [1,3,6,2,5,2]\n",
    "print(np.mean(alist))\n",
    "print(np.median(alist))"
   ]
  },
  {
   "cell_type": "markdown",
   "metadata": {},
   "source": [
    "**Code for Q2**"
   ]
  },
  {
   "cell_type": "code",
   "execution_count": 5,
   "metadata": {
    "collapsed": false
   },
   "outputs": [
    {
     "name": "stdout",
     "output_type": "stream",
     "text": [
      "Average Rating: 6.296195341377723\n",
      "Average Votes: 1691.2317746021706\n"
     ]
    }
   ],
   "source": [
    "# implement below\n",
    "\n",
    "avg_rating = data['Rating'].mean()\n",
    "print(\"Average Rating:\",avg_rating)\n",
    "\n",
    "avg_votes = data['Votes'].mean()\n",
    "print(\"Average Votes:\",avg_votes)"
   ]
  },
  {
   "cell_type": "markdown",
   "metadata": {},
   "source": [
    "## Q3: What are the 5 movies that have the highest ratings/votes?\n",
    "\n",
    "Store the movie titles and ratings information as a dictonary:\n",
    "\n",
    "- key: movie title\n",
    "- value: movie rating\n",
    "\n",
    "Then, we can sort the dictionary based on its values, which will return a list of [tuples](https://docs.python.org/2/tutorial/datastructures.html#tuples-and-sequences). Note to print only the top 5 movies."
   ]
  },
  {
   "cell_type": "code",
   "execution_count": 12,
   "metadata": {
    "collapsed": false
   },
   "outputs": [
    {
     "name": "stdout",
     "output_type": "stream",
     "text": [
      "[(1981, 55), (1980, 50), (1975, 10), (1971, 2), (1962, 1)]\n",
      "1981 55\n",
      "1980 50\n",
      "1975 10\n",
      "1971 2\n",
      "1962 1\n"
     ]
    }
   ],
   "source": [
    "import operator\n",
    "\n",
    "dt = {1971: 2, 1975: 10, 1962: 1, 1980: 50, 1981: 55}\n",
    "sorted_x_by_val = sorted(dt.items(), key=operator.itemgetter(1), reverse=True )\n",
    "print(sorted_x_by_val)\n",
    "for elem in sorted_x_by_val:\n",
    "    print(elem[0],elem[1])"
   ]
  },
  {
   "cell_type": "markdown",
   "metadata": {},
   "source": [
    "**Code for Q3**"
   ]
  },
  {
   "cell_type": "code",
   "execution_count": 6,
   "metadata": {
    "collapsed": false
   },
   "outputs": [
    {
     "name": "stdout",
     "output_type": "stream",
     "text": [
      "Top Rated Movies:\n",
      "\n",
      "                                        Title  Year  Rating  Votes\n",
      "57863   Adolfo Perez Esquivel: Rivers of Hope  2015     9.9      9\n",
      "42123                   The Red Shirt Diaries  2014     9.8      6\n",
      "131241                     Girls Loving Girls  1996     9.8      5\n",
      "140553                              High-Rise  2015     9.8      5\n",
      "24902        Mari White Presents the Newsboys  2011     9.7      6\n",
      "\n",
      "Top Voted Movies:\n",
      "\n",
      "                           Title  Year  Rating    Votes\n",
      "279320  The Shawshank Redemption  1994     9.3  1511933\n",
      "264590           The Dark Knight  2008     9.0  1487023\n",
      "149895                 Inception  2010     8.8  1285905\n",
      "122656                Fight Club  1999     8.9  1189053\n",
      "223981              Pulp Fiction  1994     8.9  1177471\n"
     ]
    }
   ],
   "source": [
    "# implement below\n",
    "top_rated = data.nlargest(5,'Rating')\n",
    "print(\"Top Rated Movies:\\n\")\n",
    "print(top_rated)\n",
    "\n",
    "top_voted = data.nlargest(5,'Votes')\n",
    "print(\"\\nTop Voted Movies:\\n\")\n",
    "print(top_voted)"
   ]
  },
  {
   "cell_type": "code",
   "execution_count": 8,
   "metadata": {
    "collapsed": false
   },
   "outputs": [
    {
     "data": {
      "text/plain": [
       "{'Fight Club': 8.9000000000000004,\n",
       " 'Inception': 8.8000000000000007,\n",
       " 'Pulp Fiction': 8.9000000000000004,\n",
       " 'The Dark Knight': 9.0,\n",
       " 'The Shawshank Redemption': 9.3000000000000007}"
      ]
     },
     "execution_count": 8,
     "metadata": {},
     "output_type": "execute_result"
    }
   ],
   "source": [
    "dict(zip(top_voted['Title'],top_voted['Rating']))"
   ]
  },
  {
   "cell_type": "markdown",
   "metadata": {},
   "source": [
    "#### Name the .ipynb file with file name 'lab02_lastname_firstname', and upload to Canvas under [w2] lab assingment.\n"
   ]
  },
  {
   "cell_type": "markdown",
   "metadata": {},
   "source": [
    "# Part 2. html and css"
   ]
  },
  {
   "cell_type": "markdown",
   "metadata": {},
   "source": [
    "## 1. Set up a local web server"
   ]
  },
  {
   "cell_type": "markdown",
   "metadata": {
    "collapsed": false
   },
   "source": [
    "Many browsers don't allow loading files locally due to security concerns. We can get around by creating a local web server with Python by the following:\n",
    "\n",
    "1. Open the ‘Command Prompt’.\n",
    "2. Move to the folder where you keep your lab materials by typing ‘cd FOLDER_LOCATION‘. We will use this folder as the ‘root’ for our webserver.\n",
    "3. Then type ‘python -m SimpleHTTPServer’. \n",
    "\n",
    "If successful, you'll see\n",
    "\n",
    "*Serving HTTP on 0.0.0.0 port 8000 …*\n",
    "\n",
    "This means that now your computer is running a webserver and its IP address is 0.0.0.0 and the port is 8000. Now you can open a browser and type \"0.0.0.0:8000\" on the address bar to connect to this webserver. Equivalently, you can type \"localhost:8000\".\n",
    "After typing, click on the different links. You can directly access one of these links by typing in ‘localhost:8000/NAME_OF_YOUR_FILE.html’ in the address bar.\n"
   ]
  },
  {
   "cell_type": "markdown",
   "metadata": {},
   "source": [
    "## 2. html review"
   ]
  },
  {
   "cell_type": "markdown",
   "metadata": {},
   "source": [
    "Webpages are written in a standard markup language called HTML (HyperText Markup Language). The basic syntax of HTML consists of elements enclosed within ‘<’ and ‘>’ symbols. Browsers such as Firefox and Chrome parse these tags and display the content of a webpage in the designated format. This is called rendering.\n",
    "\n",
    "Here is a list of important tags and their descriptions. \n",
    "\n",
    "- html - Surrounds the entire document.\n",
    "- head - Contains info about the document itself. E.g. the title, any external stylesheets or scripts, etc.\n",
    "- title - Assigns title to page. This title is used while bookmarking.\n",
    "- body - The main part of the document.\n",
    "- h1, h2, h3, h4, h5, h6 - Headings (Smaller the number, larger the size).\n",
    "- p - Paragraph.\n",
    "- br - Line break.\n",
    "- em - emphasize text.\n",
    "- strong or b - Bold font.\n",
    "- a - Defines a hyperlink and allows you to link out to the other webpages.\n",
    "- img - Place an image.\n",
    "- ul, ol, li - Unordered lists with bullets, ordered lists with numbers and each item in list respectively.\n",
    "- table, th, td, tr - Make a table, specifying contents of each cell.\n",
    "- <!--> - Comments – will not be displayed.\n",
    "- span - This will not visibly change anything on the webpage. But it is important while referencing in CSS or JavaScript.. It spans a section of text, say, within a paragraph.\n",
    "- div - This will not visibly change anything on the webpage. But it is important while referencing in CSS or JavaScript. It stands for division and allocates a section of a page."
   ]
  },
  {
   "cell_type": "markdown",
   "metadata": {},
   "source": [
    "<b>Use the top 5 voted movies found in the first part, try the following:</b>\n",
    "\n",
    "1. Create a table with the following columns: Movie Title, Year, Rating, Votes.\n",
    "2. Create a link with each movie title to its IMDB page.\n",
    "3. Add a title for the table. Can you change its font and set it to bold?\n",
    "4. Change the background color of the page.\n",
    "5. Add an entry of your favorite movie to the table. Can you set the text to a different color to highlight it?"
   ]
  },
  {
   "cell_type": "markdown",
   "metadata": {},
   "source": [
    "Test your code by visiting the web page on your local server. <b>Name the .html file with file name 'lab02_html_lastname_firstname', and upload to Canvas.<b>"
   ]
  },
  {
   "cell_type": "markdown",
   "metadata": {},
   "source": [
    "## 3. CSS review"
   ]
  },
  {
   "cell_type": "markdown",
   "metadata": {},
   "source": [
    "While HTML directly deals with the content and structure, CSS (Cascading Style Sheets) is the primary language that is used for the look and formatting of a web document. \n",
    "\n",
    "A CSS stylesheet consists of one or more selectors, properties and values.\n",
    "For example:\n",
    "```\n",
    "body {   \n",
    "\tbackground-color: white;   \n",
    "\tcolor: steelblue;   \n",
    "}```\n",
    "\n",
    "Selectors are the HTML elements to which the specific styles (combination of properties and values) will be applied. In the above example, all text within the ‘body’ tags will be in steelblue.\n",
    "\n",
    "There are three ways to include CSS code in HTML. This is called ‘referencing’.\n",
    "\n",
    "Embed CSS in HTML - You can place the CSS code within ‘style’ tags inside the ‘head’ tags. This way you can keep everything within a single HTML file but does make the code lengthy.\n",
    "```\n",
    "<head>\n",
    "  <style type=\"text/css\">\n",
    "      .description {\n",
    "      font: 16px times-new-roman;\n",
    "      }\n",
    "      .viz {\n",
    "      font: 10px sans-serif;\n",
    "      } \n",
    "    </style>\n",
    "</head>\n",
    "```\n",
    "Reference an external stylesheet from HTML - This is a much cleaner way but results in the creation of another file. To do this, you can copy the CSS code into a text file and save it as a ‘.css’ file in the same folder as the HTML file. In the document head in the HTML code, you can then do the following:\n",
    "```\n",
    "<head>\n",
    "  <link rel=”stylesheet” href=”stylesheet.css”>\n",
    "</head>\n",
    "```\n",
    "\n",
    "Attach inline styles - You can also directly attach the styles in-line along with the main HTML code in the body. This makes it easy to customize specific elements but makes the code very messy - the design and content get mixed up.\n",
    "```\n",
    "<p style=”color: green; font-size:36px; font-weight:bold;”>\n",
    "  Inline styles can help when using D3.\n",
    "</p>\n",
    "```"
   ]
  },
  {
   "cell_type": "markdown",
   "metadata": {},
   "source": [
    "Can you redo questions 3-5 in the previous section with only css?  <b>Name the .ipynb file with file name 'lab02_css_lastname_firstname', and upload to Canvas. <b>"
   ]
  },
  {
   "cell_type": "code",
   "execution_count": null,
   "metadata": {
    "collapsed": true
   },
   "outputs": [],
   "source": []
  }
 ],
 "metadata": {
  "anaconda-cloud": {},
  "kernelspec": {
   "display_name": "Python [Root]",
   "language": "python",
   "name": "Python [Root]"
  },
  "language_info": {
   "codemirror_mode": {
    "name": "ipython",
    "version": 3
   },
   "file_extension": ".py",
   "mimetype": "text/x-python",
   "name": "python",
   "nbconvert_exporter": "python",
   "pygments_lexer": "ipython3",
   "version": "3.5.2"
  }
 },
 "nbformat": 4,
 "nbformat_minor": 0
}
